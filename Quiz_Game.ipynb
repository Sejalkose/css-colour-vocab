{
  "nbformat": 4,
  "nbformat_minor": 0,
  "metadata": {
    "colab": {
      "provenance": [],
      "authorship_tag": "ABX9TyOueh/+hIwl4aZGDt6NULOX",
      "include_colab_link": true
    },
    "kernelspec": {
      "name": "python3",
      "display_name": "Python 3"
    },
    "language_info": {
      "name": "python"
    }
  },
  "cells": [
    {
      "cell_type": "markdown",
      "metadata": {
        "id": "view-in-github",
        "colab_type": "text"
      },
      "source": [
        "<a href=\"https://colab.research.google.com/github/Sejalkose/css-colour-vocab/blob/main/Quiz_Game.ipynb\" target=\"_parent\"><img src=\"https://colab.research.google.com/assets/colab-badge.svg\" alt=\"Open In Colab\"/></a>"
      ]
    },
    {
      "cell_type": "code",
      "execution_count": null,
      "metadata": {
        "colab": {
          "base_uri": "https://localhost:8080/"
        },
        "id": "k9C9vjxr3Qzt",
        "outputId": "63b93551-2db1-4dbc-ae6f-9d39aadbd7a7"
      },
      "outputs": [
        {
          "output_type": "stream",
          "name": "stdout",
          "text": [
            "Enter name:sejal\n",
            "Hello sejal Welcome to the Quiz!!\n",
            "Here is your first question\n",
            "What's the capital of india':delhi\n",
            "correct answer you won 1000 Rs\n",
            "what's our national animal:tiger\n",
            "correct answer you won 2000 Rs\n",
            "What's our national bird:peacock\n",
            "correct answer you won 3000 Rs\n",
            "what's our national anthemJana Gana Mana\n",
            "correct answer you won 4000 Rs\n",
            "it was great playing with you sejal\n"
          ]
        }
      ],
      "source": [
        "name=input(\"Enter name:\")\n",
        "print(\"Hello\",name,\"Welcome to the Quiz!!\")\n",
        "print(\"Here is your first question\")\n",
        "question=[\"What's the capital of india':\",\"what's our national animal:\",\"What's our national bird:\",\"what's our national anthem\"]\n",
        "answer=[\"delhi\",\"tiger\",\"peacock\",\"Jana Gana Mana\"]\n",
        "\n",
        "a = 1000\n",
        "b = 2000\n",
        "c =3000\n",
        "d =4000\n",
        "\n",
        "answer1=input(question[0])\n",
        "if answer1 ==answer[0]:\n",
        "  print(\"correct answer you won\",a,\"Rs\")\n",
        "else:\n",
        "  print(\"wrong answer you lost\")\n",
        "\n",
        "answer2=input(question[1])\n",
        "if answer2==answer[1]:\n",
        "  print(\"correct answer you won\",b,\"Rs\")\n",
        "else:\n",
        "  print(\"wrong answer\")\n",
        "\n",
        "answer3=input(question[2])\n",
        "if answer3==answer[2]:\n",
        "  print(\"correct answer you won\",c,\"Rs\")\n",
        "else:\n",
        "  print(\"better luck next time\")\n",
        "\n",
        "answer4=input(question[3])\n",
        "if answer4==answer[3]:\n",
        "  print(\"correct answer you won\",d,\"Rs\")\n",
        "else:\n",
        "  print(\"wrong answer\")\n",
        "\n",
        "print(\"it was great playing with you\",name)"
      ]
    }
  ]
}